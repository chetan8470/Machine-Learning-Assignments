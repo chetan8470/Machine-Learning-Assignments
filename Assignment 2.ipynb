{
 "cells": [
  {
   "cell_type": "markdown",
   "metadata": {},
   "source": [
    "# Question 1"
   ]
  },
  {
   "cell_type": "code",
   "execution_count": null,
   "metadata": {},
   "outputs": [],
   "source": [
    "s = ['Geeks For geeks', 'Please split this strin','Python3 program to Convert single', 'indexed list into multiple indexed list','Geeksforgeeks is a portal for geeks']\n",
    "r = lambda s : [i.split()[0] for i in s]\n",
    "print('result : ',r (s))"
   ]
  },
  {
   "cell_type": "markdown",
   "metadata": {},
   "source": [
    "# Question 2"
   ]
  },
  {
   "cell_type": "code",
   "execution_count": null,
   "metadata": {},
   "outputs": [],
   "source": [
    "def getString(s):\n",
    "    return [i.split()[0] for i in s]\n",
    "s = ['Geeks For geeks', 'Please split this strin','Python3 program to Convert single', 'indexed list into multiple indexed list','Geeksforgeeks is a portal for geeks']\n",
    "print('Result : ',  getString(s)) "
   ]
  },
  {
   "cell_type": "markdown",
   "metadata": {},
   "source": [
    "# Question 3"
   ]
  },
  {
   "cell_type": "code",
   "execution_count": null,
   "metadata": {},
   "outputs": [],
   "source": [
    "s = ['Geeks For geeks', 'Please split this strin','Python3 program to Convert single', 'indexed list into multiple indexed list','Geeksforgeeks is a portal for geeks']\n",
    "a = list(map(lambda i : i.split()[0], s))\n",
    "print(a)"
   ]
  },
  {
   "cell_type": "markdown",
   "metadata": {},
   "source": [
    "# Question 4"
   ]
  },
  {
   "cell_type": "code",
   "execution_count": null,
   "metadata": {},
   "outputs": [],
   "source": [
    "import math\n",
    "\n",
    "def primeFactor(n):\n",
    "    if n == 1 :\n",
    "        print(1)\n",
    "        return\n",
    "#     print('in', int(math.sqrt(n)))\n",
    "    for i in range(2,n+1):\n",
    "        if n%i == 0 :\n",
    "            print(i, end=' ')\n",
    "            return primeFactor(n//i)\n",
    "        \n",
    "n = int(input())\n",
    "primeFactor(n)"
   ]
  },
  {
   "cell_type": "markdown",
   "metadata": {},
   "source": [
    "# Question 5"
   ]
  },
  {
   "cell_type": "code",
   "execution_count": null,
   "metadata": {},
   "outputs": [],
   "source": [
    "import sys\n",
    "def secondLargest(num):\n",
    "    lar,sec_lar = -sys.maxsize,-sys.maxsize\n",
    "    for i in list(set(num)) :\n",
    "        if i > lar:\n",
    "            sec_lar = lar\n",
    "            lar = i\n",
    "    return sec_lar\n",
    "num = [int(i) for i in input().split()]\n",
    "print('Second Largest Element : ', secondLargest(num))"
   ]
  }
 ],
 "metadata": {
  "kernelspec": {
   "display_name": "Python 3",
   "language": "python",
   "name": "python3"
  },
  "language_info": {
   "codemirror_mode": {
    "name": "ipython",
    "version": 3
   },
   "file_extension": ".py",
   "mimetype": "text/x-python",
   "name": "python",
   "nbconvert_exporter": "python",
   "pygments_lexer": "ipython3",
   "version": "3.6.7"
  }
 },
 "nbformat": 4,
 "nbformat_minor": 2
}
