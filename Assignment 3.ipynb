{
 "cells": [
  {
   "cell_type": "markdown",
   "metadata": {},
   "source": [
    "# Assignment 3"
   ]
  },
  {
   "cell_type": "markdown",
   "metadata": {},
   "source": [
    "Q1. Write a function to return nth term of Fibonacci sequence."
   ]
  },
  {
   "cell_type": "code",
   "execution_count": 1,
   "metadata": {},
   "outputs": [
    {
     "name": "stdout",
     "output_type": "stream",
     "text": [
      "Enter a Number : 5\n",
      "5\n"
     ]
    }
   ],
   "source": [
    "def fibo(n) :\n",
    "    if(n < 0) :\n",
    "        return(\"incorrect input\")\n",
    "    elif(n == 0):\n",
    "        return 0\n",
    "    elif(n == 2 or n == 1):\n",
    "        return 1\n",
    "    else : \n",
    "        return (fibo(n - 1) + fibo(n - 2))\n",
    "\n",
    "x = int(input(\"Enter a Number : \"))\n",
    "print(fibo(x))"
   ]
  },
  {
   "cell_type": "markdown",
   "metadata": {},
   "source": [
    "Q2. Write a function to find out GCD of two numbers using EUCLID'S algorithm."
   ]
  },
  {
   "cell_type": "code",
   "execution_count": 2,
   "metadata": {},
   "outputs": [
    {
     "name": "stdout",
     "output_type": "stream",
     "text": [
      "Enter the 1st number: 10\n",
      "Enter the 2nd number: 20\n",
      "GCD of 10 and 20 is 10\n"
     ]
    }
   ],
   "source": [
    "def gcd(a, b):\n",
    "  \n",
    "    if (a == 0):\n",
    "        return b\n",
    "    elif (b == 0):\n",
    "        return a\n",
    "  \n",
    "    elif (a == b):\n",
    "        return a\n",
    "  \n",
    "    elif (a > b):\n",
    "        return gcd(a-b, b)\n",
    "    \n",
    "    else:\n",
    "        return gcd(a, b-a)\n",
    "\n",
    "a = int (input (\"Enter the 1st number: \"))\n",
    "b = int (input (\"Enter the 2nd number: \"))\n",
    "if(gcd(a, b)):\n",
    "    print('GCD of', a, 'and', b, 'is', gcd(a, b))\n",
    "else:\n",
    "    print('NA')"
   ]
  },
  {
   "cell_type": "markdown",
   "metadata": {},
   "source": [
    "Q3. Write a function to find LCM of two number in most optimizers way."
   ]
  },
  {
   "cell_type": "code",
   "execution_count": 3,
   "metadata": {},
   "outputs": [
    {
     "name": "stdout",
     "output_type": "stream",
     "text": [
      "Enter the first number for calculating LCM: 52\n",
      "Enter the second number for calculating LCM: 60\n"
     ]
    },
    {
     "data": {
      "text/plain": [
       "780"
      ]
     },
     "execution_count": 3,
     "metadata": {},
     "output_type": "execute_result"
    }
   ],
   "source": [
    "def gcd(x, y):\n",
    "   while(y):\n",
    "       x, y = y, x % y\n",
    "   return x\n",
    "def lcm(x, y):\n",
    "   lcm = (x*y)//gcd(x,y)\n",
    "   return lcm\n",
    "num1 = int(input(\"Enter the first number for calculating LCM: \"))\n",
    "num2 = int(input(\"Enter the second number for calculating LCM: \"))\n",
    "lcm(num1, num2)"
   ]
  },
  {
   "cell_type": "code",
   "execution_count": null,
   "metadata": {},
   "outputs": [],
   "source": []
  }
 ],
 "metadata": {
  "kernelspec": {
   "display_name": "Python 3",
   "language": "python",
   "name": "python3"
  },
  "language_info": {
   "codemirror_mode": {
    "name": "ipython",
    "version": 3
   },
   "file_extension": ".py",
   "mimetype": "text/x-python",
   "name": "python",
   "nbconvert_exporter": "python",
   "pygments_lexer": "ipython3",
   "version": "3.6.7"
  }
 },
 "nbformat": 4,
 "nbformat_minor": 2
}
